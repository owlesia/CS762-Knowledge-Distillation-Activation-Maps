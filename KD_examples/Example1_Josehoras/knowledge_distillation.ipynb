{
 "cells": [
  {
   "cell_type": "markdown",
   "metadata": {},
   "source": [
    "### First step, we load the data\n",
    "\n",
    "Functions for that purpose are contained in my_mnist_loader, and there is no need to go here into these details"
   ]
  },
  {
   "cell_type": "code",
   "execution_count": 1,
   "metadata": {},
   "outputs": [],
   "source": [
    "from my_mnist_loader import *"
   ]
  },
  {
   "cell_type": "code",
   "execution_count": 2,
   "metadata": {},
   "outputs": [
    {
     "name": "stdout",
     "output_type": "stream",
     "text": [
      "Train data shape:  (50000, 784)\n",
      "Train labels shape:  (50000,)\n",
      "Validation data shape:  (10000, 784)\n",
      "Validation labels shape:  (10000,)\n",
      "Test data shape:  (10000, 784)\n",
      "Test labels shape:  (10000,)\n"
     ]
    }
   ],
   "source": [
    "X_train, y_train, X_val, y_val, X_test, y_test = my_load_data_wrapper()\n",
    "print('Train data shape: ', X_train.shape)\n",
    "print('Train labels shape: ', y_train.shape)\n",
    "print('Validation data shape: ', X_val.shape)\n",
    "print('Validation labels shape: ', y_val.shape)\n",
    "print('Test data shape: ', X_test.shape)\n",
    "print('Test labels shape: ', y_test.shape)"
   ]
  },
  {
   "cell_type": "code",
   "execution_count": 3,
   "metadata": {},
   "outputs": [],
   "source": [
    "import matplotlib.pyplot as plt\n",
    "%matplotlib inline"
   ]
  },
  {
   "cell_type": "markdown",
   "metadata": {},
   "source": [
    "Now we define a DataSet and DataLoaders for each of the original datasets\n",
    "\n",
    "DataSet and DataLoaders are PyTorch defined classes that make really easy to process data into our training loop"
   ]
  },
  {
   "cell_type": "code",
   "execution_count": 4,
   "metadata": {},
   "outputs": [],
   "source": [
    "from torch.utils.data import Dataset, DataLoader\n",
    "class CustomDataset(Dataset):\n",
    "    def __init__(self, features, labels):\n",
    "        self.features = features\n",
    "        self.labels = labels\n",
    "\n",
    "    def __getitem__(self, index):\n",
    "        f = torch.tensor(self.features[index])\n",
    "        l = torch.tensor(self.labels[index])\n",
    "        return (f.to(device), l.to(device))\n",
    "\n",
    "    def __len__(self):\n",
    "        return len(self.labels)"
   ]
  },
  {
   "cell_type": "code",
   "execution_count": 5,
   "metadata": {},
   "outputs": [],
   "source": [
    "# Create data loader\n",
    "batch_size = 100\n",
    "train_data = CustomDataset(X_train, y_train)\n",
    "train_loader = DataLoader(dataset=train_data, batch_size=batch_size, shuffle=True)\n",
    "val_data = CustomDataset(X_val, y_val)\n",
    "val_loader = DataLoader(dataset=val_data, batch_size=batch_size, shuffle=True)\n",
    "test_data = CustomDataset(X_test, y_test)\n",
    "test_loader = DataLoader(dataset=test_data, batch_size=batch_size, shuffle=True)"
   ]
  },
  {
   "cell_type": "code",
   "execution_count": 6,
   "metadata": {},
   "outputs": [],
   "source": [
    "def evaluate(model, dataset, max_ex=0):\n",
    "    acc = 0\n",
    "    N = len(dataset) * batch_size\n",
    "    for i, (features, labels) in enumerate(dataset):\n",
    "        scores = model(features)\n",
    "        pred = torch.argmax(scores, dim=1)\n",
    "        acc += torch.sum(torch.eq(pred, labels)).item()\n",
    "        if max_ex != 0 and i >= max_ex:\n",
    "            break\n",
    "    # print(i)\n",
    "    return (acc * 100 / ((i+1) * batch_size) )"
   ]
  },
  {
   "cell_type": "markdown",
   "metadata": {},
   "source": [
    "### Define and train a big, teacher neural net\n",
    "\n",
    "First we import the PyTorch libraries, then create the neural network.\n",
    "\n",
    "However, instead of training now, you have the option of just loading the network I previously trained"
   ]
  },
  {
   "cell_type": "code",
   "execution_count": 7,
   "metadata": {},
   "outputs": [],
   "source": [
    "import torch\n",
    "import torch.nn as nn\n",
    "from torch.optim import Adam\n",
    "from models import *\n",
    "from plot_funcs import *"
   ]
  },
  {
   "cell_type": "code",
   "execution_count": 8,
   "metadata": {},
   "outputs": [],
   "source": [
    "if torch.cuda.is_available():\n",
    "    device = torch.device(\"cuda:0\")\n",
    "else:\n",
    "    device = torch.device(\"cpu\")"
   ]
  },
  {
   "cell_type": "code",
   "execution_count": 9,
   "metadata": {},
   "outputs": [],
   "source": [
    "class linear_net(nn.Module):\n",
    "    def __init__(self, dropout=0.5):\n",
    "        super(linear_net, self).__init__()\n",
    "        self.linear_1 = nn.Linear(784, 1200)\n",
    "        self.relu = nn.ReLU()\n",
    "        self.dropout = nn.Dropout(p=dropout)\n",
    "        self.linear_2 = nn.Linear(1200, 1200)\n",
    "        self.dropout = nn.Dropout(p=dropout)\n",
    "        self.linear_3 = nn.Linear(1200, 10)\n",
    "\n",
    "    def forward(self, input):\n",
    "        scores = self.linear_1(input)\n",
    "        scores = self.relu(scores)\n",
    "        scores = self.linear_2(scores)\n",
    "        scores = self.relu(scores)\n",
    "        scores = self.dropout(scores)\n",
    "        scores = self.linear_3(scores)\n",
    "        return scores"
   ]
  },
  {
   "cell_type": "code",
   "execution_count": 10,
   "metadata": {},
   "outputs": [],
   "source": [
    "# Create our teacher model\n",
    "big_model = linear_net().to(device)"
   ]
  },
  {
   "cell_type": "code",
   "execution_count": 11,
   "metadata": {},
   "outputs": [
    {
     "data": {
      "text/plain": [
       "linear_net(\n",
       "  (linear_1): Linear(in_features=784, out_features=1200, bias=True)\n",
       "  (relu): ReLU()\n",
       "  (dropout): Dropout(p=0.5, inplace=False)\n",
       "  (linear_2): Linear(in_features=1200, out_features=1200, bias=True)\n",
       "  (linear_3): Linear(in_features=1200, out_features=10, bias=True)\n",
       ")"
      ]
     },
     "execution_count": 11,
     "metadata": {},
     "output_type": "execute_result"
    }
   ],
   "source": [
    "# Load our pre-trained teacher model\n",
    "load_path = \"teacher_linear_model/\"\n",
    "checkpoint = torch.load(load_path + \"modelo\", map_location=torch.device('cpu'))\n",
    "big_model.load_state_dict(checkpoint['model_state_dict'])\n",
    "big_model.eval()"
   ]
  },
  {
   "cell_type": "code",
   "execution_count": 36,
   "metadata": {},
   "outputs": [
    {
     "name": "stderr",
     "output_type": "stream",
     "text": [
      "100%|█████████████████████████████████████████████████████████████████████████████████████████████████████████████████████████████████████████████████████████████████████| 500/500 [00:05<00:00, 90.75it/s]\n",
      "100%|█████████████████████████████████████████████████████████████████████████████████████████████████████████████████████████████████████████████████████████████████████| 500/500 [00:05<00:00, 90.57it/s]\n"
     ]
    }
   ],
   "source": [
    "# This cell is here if you want to train the teacher model yourself\n",
    "# if you don't want to lose time DO NOT RUN\n",
    "\n",
    "from tqdm import tqdm\n",
    "\n",
    "# Loss function\n",
    "loss_fn = nn.CrossEntropyLoss()\n",
    "# Create optimizer\n",
    "lr = 5e-3\n",
    "optimizer = Adam(big_model.parameters(), lr=lr)\n",
    "epochs = 2\n",
    "train_loss = []\n",
    "train_acc = []\n",
    "val_acc = []\n",
    "it = 0\n",
    "title = \"progress\"\n",
    "for epoch in range(epochs):\n",
    "    it_per_epoch = 0\n",
    "    for features, labels in tqdm(train_loader):\n",
    "        scores = big_model(features)\n",
    "        loss = loss_fn(scores, labels)\n",
    "        optimizer.zero_grad()\n",
    "        loss.backward()\n",
    "        optimizer.step()\n",
    "        train_loss.append(loss.item())\n",
    "        if it % 100 == 0 and it != 0 and len(train_acc) > 1:\n",
    "            train_acc.append(evaluate(big_model, train_loader, max_ex=100))\n",
    "            val_acc.append(evaluate(big_model, val_loader))\n",
    "            plot_loss(train_loss, it, it_per_epoch, base_name=\"loss_\"+title, title=title)\n",
    "            plot_acc(train_acc, val_acc, it, it_per_epoch, base_name=\"acc_\"+title, title=title)\n",
    "        it += 1\n",
    "        it_per_epoch += 1\n",
    "#perform last book keeping\n",
    "train_acc.append(evaluate(big_model, train_loader, max_ex=100))\n",
    "val_acc.append(evaluate(big_model, val_loader))"
   ]
  },
  {
   "cell_type": "code",
   "execution_count": 37,
   "metadata": {},
   "outputs": [
    {
     "name": "stdout",
     "output_type": "stream",
     "text": [
      "\n",
      "Train accuracy: 99.26%\n",
      "Validation accuracy: 97.23%\n",
      "Test accuracy: 97.13%\n"
     ]
    }
   ],
   "source": [
    "train_acc = evaluate(big_model, train_loader)\n",
    "print(\"\\nTrain accuracy: %.2f%%\" % train_acc)\n",
    "val_acc = evaluate(big_model,val_loader)\n",
    "print(\"Validation accuracy: %.2f%%\" % val_acc)\n",
    "test_acc = evaluate(big_model, test_loader)\n",
    "print(\"Test accuracy: %.2f%%\" % test_acc)"
   ]
  },
  {
   "cell_type": "markdown",
   "metadata": {},
   "source": [
    "### Define and train a small, student neural net"
   ]
  },
  {
   "cell_type": "code",
   "execution_count": 38,
   "metadata": {},
   "outputs": [],
   "source": [
    "class small_linear_net(nn.Module):\n",
    "    def __init__(self):\n",
    "        super(small_linear_net, self).__init__()\n",
    "        self.linear_1 = nn.Linear(784, 50)\n",
    "        self.relu = nn.ReLU()\n",
    "        self.linear_2 = nn.Linear(50, 10)\n",
    "\n",
    "    def forward(self, input):\n",
    "        scores = self.linear_1(input)\n",
    "        scores = self.relu(scores)\n",
    "        scores = self.linear_2(scores)\n",
    "        return scores"
   ]
  },
  {
   "cell_type": "code",
   "execution_count": 39,
   "metadata": {},
   "outputs": [],
   "source": [
    "# Create our student model\n",
    "small_model = small_linear_net().to(device)"
   ]
  },
  {
   "cell_type": "code",
   "execution_count": 41,
   "metadata": {},
   "outputs": [
    {
     "data": {
      "text/plain": [
       "small_linear_net(\n",
       "  (linear_1): Linear(in_features=784, out_features=50, bias=True)\n",
       "  (relu): ReLU()\n",
       "  (linear_2): Linear(in_features=50, out_features=10, bias=True)\n",
       ")"
      ]
     },
     "execution_count": 41,
     "metadata": {},
     "output_type": "execute_result"
    }
   ],
   "source": [
    "# Load our pre-trained student model\n",
    "# This is just if you want to check the accuracy of this model\n",
    "# trained with the original MNIST data\n",
    "load_path = \"small_linear_model/\"\n",
    "checkpoint = torch.load(load_path + \"modelo\", map_location=torch.device('cpu'))\n",
    "small_model.load_state_dict(checkpoint['model_state_dict'])\n",
    "small_model.eval()"
   ]
  },
  {
   "cell_type": "code",
   "execution_count": 42,
   "metadata": {},
   "outputs": [
    {
     "name": "stdout",
     "output_type": "stream",
     "text": [
      "\n",
      "Train accuracy: 99.27%\n",
      "Validation accuracy: 96.92%\n",
      "Test accuracy: 96.71%\n"
     ]
    }
   ],
   "source": [
    "train_acc = evaluate(small_model, train_loader)\n",
    "print(\"\\nTrain accuracy: %.2f%%\" % train_acc)\n",
    "val_acc = evaluate(small_model,val_loader)\n",
    "print(\"Validation accuracy: %.2f%%\" % val_acc)\n",
    "test_acc = evaluate(small_model, test_loader)\n",
    "print(\"Test accuracy: %.2f%%\" % test_acc)"
   ]
  },
  {
   "cell_type": "markdown",
   "metadata": {},
   "source": [
    "### Distillation training"
   ]
  },
  {
   "cell_type": "code",
   "execution_count": 43,
   "metadata": {},
   "outputs": [],
   "source": [
    "# Set output directory and create if needed\n",
    "import os\n",
    "output_dir = \"small_linear_model_distill1/\"\n",
    "if not os.path.exists(output_dir):\n",
    "    os.makedirs(output_dir)"
   ]
  },
  {
   "cell_type": "code",
   "execution_count": 44,
   "metadata": {},
   "outputs": [],
   "source": [
    "### Define our custom loss function\n",
    "softmax_op = nn.Softmax(dim=1)\n",
    "mseloss_fn = nn.MSELoss()\n",
    "\n",
    "def my_loss(scores, targets, T=5):\n",
    "    soft_pred = softmax_op(scores / T)\n",
    "    soft_targets = softmax_op(targets / T)\n",
    "    loss = mseloss_fn(soft_pred, soft_targets)\n",
    "    return loss"
   ]
  },
  {
   "cell_type": "code",
   "execution_count": 45,
   "metadata": {},
   "outputs": [
    {
     "name": "stderr",
     "output_type": "stream",
     "text": [
      "100%|████████████████████████████████████████████████████████████████████████████████████████████████████████████████████████████████████████████████████████████████████| 500/500 [00:04<00:00, 123.23it/s]\n",
      "100%|████████████████████████████████████████████████████████████████████████████████████████████████████████████████████████████████████████████████████████████████████| 500/500 [00:04<00:00, 124.52it/s]\n",
      "100%|████████████████████████████████████████████████████████████████████████████████████████████████████████████████████████████████████████████████████████████████████| 500/500 [00:04<00:00, 124.28it/s]\n",
      "100%|████████████████████████████████████████████████████████████████████████████████████████████████████████████████████████████████████████████████████████████████████| 500/500 [00:04<00:00, 123.63it/s]\n",
      "100%|████████████████████████████████████████████████████████████████████████████████████████████████████████████████████████████████████████████████████████████████████| 500/500 [00:04<00:00, 124.07it/s]\n"
     ]
    },
    {
     "data": {
      "image/png": "[encoded data removed]",
      "text/plain": [
       "<Figure size 800x400 with 1 Axes>"
      ]
     },
     "metadata": {
      "needs_background": "light"
     },
     "output_type": "display_data"
    }
   ],
   "source": [
    "# Create a new student model to start training from zero\n",
    "small_model = small_linear_net().to(device)\n",
    "from tqdm import tqdm\n",
    "%matplotlib inline\n",
    "\n",
    "# Hyperparameters\n",
    "lr = 5e-3\n",
    "epochs = 5\n",
    "temp = 5\n",
    "\n",
    "# Create optimizer\n",
    "optimizer = Adam(small_model.parameters(), lr=lr)\n",
    "val_acc = []\n",
    "train_acc = []\n",
    "train_loss = [0]  # loss at iteration 0\n",
    "for epoch in range(epochs):\n",
    "    for features, labels in tqdm(train_loader):\n",
    "        scores = small_model(features)\n",
    "        targets = big_model(features)\n",
    "        loss = my_loss(scores, targets, T = temp)\n",
    "        optimizer.zero_grad()\n",
    "        loss.backward()\n",
    "        optimizer.step()\n",
    "        # Book-keeping\n",
    "        if it % 100 == 0:\n",
    "            train_acc.append(evaluate(small_model, train_loader, max_ex=100))\n",
    "            val_acc.append(evaluate(small_model, val_loader))\n",
    "        it += 1\n",
    "#perform last book-keeping\n",
    "train_acc.append(evaluate(small_model, train_loader, max_ex=100))\n",
    "val_acc.append(evaluate(small_model, val_loader))\n",
    "plot_acc(train_acc, val_acc, it, it_per_epoch)"
   ]
  },
  {
   "cell_type": "code",
   "execution_count": 46,
   "metadata": {},
   "outputs": [
    {
     "name": "stdout",
     "output_type": "stream",
     "text": [
      "\n",
      "Train accuracy: 96.85%\n",
      "Validation accuracy: 96.01%\n",
      "Test accuracy: 96.03%\n"
     ]
    }
   ],
   "source": [
    "train_acc = evaluate(small_model, train_loader)\n",
    "print(\"\\nTrain accuracy: %.2f%%\" % train_acc)\n",
    "val_acc = evaluate(small_model,val_loader)\n",
    "print(\"Validation accuracy: %.2f%%\" % val_acc)\n",
    "test_acc = evaluate(small_model, test_loader)\n",
    "print(\"Test accuracy: %.2f%%\" % test_acc)"
   ]
  },
  {
   "cell_type": "code",
   "execution_count": null,
   "metadata": {},
   "outputs": [],
   "source": []
  }
 ],
 "metadata": {
  "kernelspec": {
   "display_name": "cs762",
   "language": "python",
   "name": "cs762"
  },
  "language_info": {
   "codemirror_mode": {
    "name": "ipython",
    "version": 3
   },
   "file_extension": ".py",
   "mimetype": "text/x-python",
   "name": "python",
   "nbconvert_exporter": "python",
   "pygments_lexer": "ipython3",
   "version": "3.8.13"
  }
 },
 "nbformat": 4,
 "nbformat_minor": 2
}
