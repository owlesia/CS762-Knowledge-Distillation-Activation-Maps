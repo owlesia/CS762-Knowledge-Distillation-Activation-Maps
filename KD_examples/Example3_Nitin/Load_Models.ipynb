{
 "cells": [
  {
   "cell_type": "code",
   "execution_count": null,
   "metadata": {},
   "outputs": [],
   "source": [
    "# Load saved Models for Saliency Maps\n",
    "\n",
    "import os, torch, \n",
    "import resnet, utils, dataloader\n",
    "\n",
    "model_dir = 'experiments/base_resnet50_TL_Nov19'\n",
    "model_name ='resnet50'\n",
    "\n",
    "json_path = os.path.join(model_dir, 'params.json')\n",
    "params = utils.Params(json_path)\n",
    "params.cuda = torch.cuda.is_available()\n",
    "\n",
    "model_checkpoint = os.path.join(model_dir, 'best.pth.tar')\n",
    "model = resnet.Resnet(model_name, pretrained=False)\n",
    "model = model.cuda() if params.cuda else model\n",
    "\n",
    "utils.load_checkpoint(model_checkpoint, model)\n",
    "model"
   ]
  },
  {
   "cell_type": "code",
   "execution_count": null,
   "metadata": {},
   "outputs": [],
   "source": [
    "# Test Dataloader\n",
    "test_dataloader = dataloader.get_test_loader(\n",
    "                        data_dir=params.data_dir,\n",
    "                        batch_size=params.batch_size,\n",
    "                        shuffle=True,\n",
    "                        num_workers=params.num_workers,\n",
    "                        pin_memory=params.cuda)\n",
    "\n"
   ]
  },
  {
   "cell_type": "code",
   "execution_count": null,
   "metadata": {},
   "outputs": [],
   "source": [
    "# Test Metrics\n",
    "import evaluate\n",
    "\n",
    "test_metrics = evaluate(model, resnet.loss_fn, test_dataloader, resnet.metrics, params)\n",
    "test_metrics"
   ]
  },
  {
   "cell_type": "code",
   "execution_count": null,
   "metadata": {
    "id": "cNf4SHC9XjAR"
   },
   "outputs": [],
   "source": [
    "#drive.flush_and_unmount()"
   ]
  }
 ],
 "metadata": {
  "accelerator": "GPU",
  "colab": {
   "collapsed_sections": [],
   "provenance": []
  },
  "environment": {
   "kernel": "python3",
   "name": "pytorch-gpu.1-11.m94",
   "type": "gcloud",
   "uri": "gcr.io/deeplearning-platform-release/pytorch-gpu.1-11:m94"
  },
  "gpuClass": "standard",
  "kernelspec": {
   "display_name": "Python 3",
   "language": "python",
   "name": "python3"
  },
  "language_info": {
   "codemirror_mode": {
    "name": "ipython",
    "version": 3
   },
   "file_extension": ".py",
   "mimetype": "text/x-python",
   "name": "python",
   "nbconvert_exporter": "python",
   "pygments_lexer": "ipython3",
   "version": "3.7.12"
  },
  "vscode": {
   "interpreter": {
    "hash": "d4d1e4263499bec80672ea0156c357c1ee493ec2b1c70f0acce89fc37c4a6abe"
   }
  }
 },
 "nbformat": 4,
 "nbformat_minor": 4
}
