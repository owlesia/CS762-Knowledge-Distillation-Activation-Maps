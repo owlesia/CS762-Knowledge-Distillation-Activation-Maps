{
 "cells": [
  {
   "cell_type": "code",
   "execution_count": 1,
   "metadata": {},
   "outputs": [
    {
     "name": "stderr",
     "output_type": "stream",
     "text": [
      "/opt/conda/lib/python3.7/site-packages/tqdm/auto.py:22: TqdmWarning: IProgress not found. Please update jupyter and ipywidgets. See https://ipywidgets.readthedocs.io/en/stable/user_install.html\n",
      "  from .autonotebook import tqdm as notebook_tqdm\n"
     ]
    },
    {
     "data": {
      "text/plain": [
       "True"
      ]
     },
     "execution_count": 1,
     "metadata": {},
     "output_type": "execute_result"
    }
   ],
   "source": [
    "import torch\n",
    "torch.cuda.is_available()"
   ]
  },
  {
   "cell_type": "code",
   "execution_count": 7,
   "metadata": {
    "colab": {
     "base_uri": "https://8080-cs-8fccdb3f-9107-4313-8c25-4ebf00823ff4.cs-us-central1-pits.cloudshell.dev/"
    },
    "id": "gDDz3zyMPWet",
    "outputId": "2d97473e-a723-4a24-dc7b-f96eebd878f0"
   },
   "outputs": [
    {
     "name": "stdout",
     "output_type": "stream",
     "text": [
      "2022-11-06 21:56:55.620489: I tensorflow/core/platform/cpu_feature_guard.cc:193] This TensorFlow binary is optimized with oneAPI Deep Neural Network Library (oneDNN) to use the following CPU instructions in performance-critical operations:  AVX2 FMA\n",
      "To enable them in other operations, rebuild TensorFlow with the appropriate compiler flags.\n",
      "2022-11-06 21:56:55.833469: E tensorflow/stream_executor/cuda/cuda_blas.cc:2981] Unable to register cuBLAS factory: Attempting to register factory for plugin cuBLAS when one has already been registered\n",
      "2022-11-06 21:56:56.530567: W tensorflow/stream_executor/platform/default/dso_loader.cc:64] Could not load dynamic library 'libnvinfer.so.7'; dlerror: libnvinfer.so.7: cannot open shared object file: No such file or directory; LD_LIBRARY_PATH: /usr/local/cuda/lib64:/usr/local/nccl2/lib:/usr/local/cuda/extras/CUPTI/lib64:/usr/local/cuda/lib64:/usr/local/nccl2/lib:/usr/local/cuda/extras/CUPTI/lib64\n",
      "2022-11-06 21:56:56.530663: W tensorflow/stream_executor/platform/default/dso_loader.cc:64] Could not load dynamic library 'libnvinfer_plugin.so.7'; dlerror: libnvinfer_plugin.so.7: cannot open shared object file: No such file or directory; LD_LIBRARY_PATH: /usr/local/cuda/lib64:/usr/local/nccl2/lib:/usr/local/cuda/extras/CUPTI/lib64:/usr/local/cuda/lib64:/usr/local/nccl2/lib:/usr/local/cuda/extras/CUPTI/lib64\n",
      "2022-11-06 21:56:56.530682: W tensorflow/compiler/tf2tensorrt/utils/py_utils.cc:38] TF-TRT Warning: Cannot dlopen some TensorRT libraries. If you would like to use Nvidia GPU with TensorRT, please make sure the missing libraries mentioned above are installed properly.\n",
      "INFO:root:Loading the datasets...\n",
      "Traceback (most recent call last):\n",
      "  File \"main.py\", line 347, in <module>\n",
      "    pin_memory=params.cuda)\n",
      "  File \"/home/jupyter/cs762/CS762-Knowledge-Distillation-Activation-Maps/KD_examples/Example3_Nitin/dataloader.py\", line 82, in get_train_valid_loader\n",
      "    download=False, transform=train_transform,\n",
      "  File \"/opt/conda/lib/python3.7/site-packages/torchvision/datasets/oxford_iiit_pet.py\", line 67, in __init__\n",
      "    raise RuntimeError(\"Dataset not found. You can use download=True to download it\")\n",
      "RuntimeError: Dataset not found. You can use download=True to download it\n"
     ]
    }
   ],
   "source": [
    "!python main.py --model_dir experiments/base_resnet18"
   ]
  },
  {
   "cell_type": "code",
   "execution_count": 4,
   "metadata": {},
   "outputs": [
    {
     "name": "stderr",
     "output_type": "stream",
     "text": [
      "INFO:root:Loading the datasets...\n"
     ]
    }
   ],
   "source": [
    "import utils\n",
    "import os, logging\n",
    "\n",
    "model_dir = 'experiments/base_resnet18'\n",
    "log_path = os.path.join(model_dir, 'train.log')\n",
    "\n",
    "logger = logging.getLogger()\n",
    "logger.setLevel(logging.INFO)\n",
    "\n",
    "if logger.handlers:\n",
    "    # Logging to a file\n",
    "    file_handler = logging.FileHandler(log_path)\n",
    "    file_handler.setFormatter(logging.Formatter('%(asctime)s:%(levelname)s: %(message)s'))\n",
    "    logger.addHandler(file_handler)\n",
    "\n",
    "# Create the input data pipeline\n",
    "logging.info(\"Loading the datasets...\")"
   ]
  },
  {
   "cell_type": "code",
   "execution_count": 6,
   "metadata": {},
   "outputs": [
    {
     "name": "stderr",
     "output_type": "stream",
     "text": [
      "INFO:root:Loading the datasets...\n"
     ]
    }
   ],
   "source": [
    "import utils\n",
    "# Set the logger\n",
    "utils.set_logger(log_path)\n",
    "\n",
    "# Create the input data pipeline\n",
    "logging.info(\"Loading the datasets...\")"
   ]
  },
  {
   "cell_type": "code",
   "execution_count": 3,
   "metadata": {},
   "outputs": [
    {
     "data": {
      "text/plain": [
       "'experiments/base_resnet18/train.log'"
      ]
     },
     "execution_count": 3,
     "metadata": {},
     "output_type": "execute_result"
    }
   ],
   "source": [
    "os.path.join(model_dir, 'train.log')"
   ]
  },
  {
   "cell_type": "code",
   "execution_count": null,
   "metadata": {
    "colab": {
     "base_uri": "https://8080-cs-8fccdb3f-9107-4313-8c25-4ebf00823ff4.cs-us-central1-pits.cloudshell.dev/",
     "height": 265
    },
    "id": "kpzuU3cey_uM",
    "outputId": "25fa79e1-2195-4ea5-db37-dd11dfc18bca"
   },
   "outputs": [],
   "source": [
    "# # Extract data from log files and plot\n",
    "\n",
    "filename = '/content/drive/MyDrive/CS762/experiments/base_resnet18/train.log'\n",
    "\n",
    "train_acc = []\n",
    "loss = []\n",
    "eval_acc = []\n",
    "\n",
    "with open(filename) as file:\n",
    "  for line in file:\n",
    "    l = line.rstrip()\n",
    "    if 'Train metrics' in l:\n",
    "      train_acc.append(float(l[-19:-14]))\n",
    "      loss.append(float(l[-5:]))\n",
    "    if 'Eval metrics' in l:\n",
    "      eval_acc.append(float(l[-19:-14]))\n",
    "\n",
    "import matplotlib.pyplot as plt\n",
    "plt.plot(train_acc)\n",
    "plt.plot(eval_acc)\n",
    "plt.show()\n"
   ]
  },
  {
   "cell_type": "code",
   "execution_count": null,
   "metadata": {
    "id": "cNf4SHC9XjAR"
   },
   "outputs": [],
   "source": [
    "#drive.flush_and_unmount()"
   ]
  }
 ],
 "metadata": {
  "accelerator": "GPU",
  "colab": {
   "collapsed_sections": [],
   "provenance": []
  },
  "environment": {
   "kernel": "python3",
   "name": "pytorch-gpu.1-11.m94",
   "type": "gcloud",
   "uri": "gcr.io/deeplearning-platform-release/pytorch-gpu.1-11:m94"
  },
  "gpuClass": "standard",
  "kernelspec": {
   "display_name": "Python 3.7.12 ('base')",
   "language": "python",
   "name": "python3"
  },
  "language_info": {
   "codemirror_mode": {
    "name": "ipython",
    "version": 3
   },
   "file_extension": ".py",
   "mimetype": "text/x-python",
   "name": "python",
   "nbconvert_exporter": "python",
   "pygments_lexer": "ipython3",
   "version": "3.7.12"
  },
  "vscode": {
   "interpreter": {
    "hash": "d4d1e4263499bec80672ea0156c357c1ee493ec2b1c70f0acce89fc37c4a6abe"
   }
  }
 },
 "nbformat": 4,
 "nbformat_minor": 4
}
