{
 "cells": [
  {
   "cell_type": "code",
   "execution_count": null,
   "metadata": {},
   "outputs": [],
   "source": [
    "# Test Models\n",
    "\n",
    "import os, torch, resnet, utils, dataloader, evaluate\n",
    "\n",
    "model_dir = 'experiments/base_resnet50_TL_Nov19'\n",
    "model_name='resnet50'\n",
    "\n",
    "json_path = os.path.join(model_dir, 'params.json')\n",
    "params = utils.Params(json_path)\n",
    "params.cuda = torch.cuda.is_available()\n",
    "\n",
    "model_checkpoint = os.path.join(model_dir, 'best.pth.tar')\n",
    "model = resnet.Resnet(model_name, pretrained=False)\n",
    "model = model.cuda() if params.cuda else model\n",
    "utils.load_checkpoint(model_checkpoint, model)\n",
    "\n",
    "# Test Dataloader\n",
    "test_dataloader = dataloader.get_test_loader(\n",
    "                        data_dir=params.data_dir,\n",
    "                        batch_size=params.batch_size,\n",
    "                        shuffle=True,\n",
    "                        num_workers=params.num_workers,\n",
    "                        pin_memory=params.cuda)\n",
    "\n",
    "\n",
    "test_metrics = evaluate(model, resnet.loss_fn, test_dataloader, resnet.metrics, params)\n",
    "test_metrics\n"
   ]
  },
  {
   "cell_type": "code",
   "execution_count": null,
   "metadata": {
    "colab": {
     "base_uri": "https://8080-cs-8fccdb3f-9107-4313-8c25-4ebf00823ff4.cs-us-central1-pits.cloudshell.dev/",
     "height": 265
    },
    "id": "kpzuU3cey_uM",
    "outputId": "25fa79e1-2195-4ea5-db37-dd11dfc18bca"
   },
   "outputs": [],
   "source": [
    "# # Extract data from log files and plot\n",
    "\n",
    "filename = '/content/drive/MyDrive/CS762/experiments/base_resnet18/train.log'\n",
    "\n",
    "train_acc = []\n",
    "loss = []\n",
    "eval_acc = []\n",
    "\n",
    "with open(filename) as file:\n",
    "  for line in file:\n",
    "    l = line.rstrip()\n",
    "    if 'Train metrics' in l:\n",
    "      train_acc.append(float(l[-19:-14]))\n",
    "      loss.append(float(l[-5:]))\n",
    "    if 'Eval metrics' in l:\n",
    "      eval_acc.append(float(l[-19:-14]))\n",
    "\n",
    "import matplotlib.pyplot as plt\n",
    "plt.plot(train_acc)\n",
    "plt.plot(eval_acc)\n",
    "plt.show()\n"
   ]
  },
  {
   "cell_type": "code",
   "execution_count": null,
   "metadata": {
    "id": "cNf4SHC9XjAR"
   },
   "outputs": [],
   "source": [
    "#drive.flush_and_unmount()"
   ]
  }
 ],
 "metadata": {
  "accelerator": "GPU",
  "colab": {
   "collapsed_sections": [],
   "provenance": []
  },
  "environment": {
   "kernel": "python3",
   "name": "pytorch-gpu.1-11.m94",
   "type": "gcloud",
   "uri": "gcr.io/deeplearning-platform-release/pytorch-gpu.1-11:m94"
  },
  "gpuClass": "standard",
  "kernelspec": {
   "display_name": "Python 3",
   "language": "python",
   "name": "python3"
  },
  "language_info": {
   "codemirror_mode": {
    "name": "ipython",
    "version": 3
   },
   "file_extension": ".py",
   "mimetype": "text/x-python",
   "name": "python",
   "nbconvert_exporter": "python",
   "pygments_lexer": "ipython3",
   "version": "3.7.12"
  },
  "vscode": {
   "interpreter": {
    "hash": "d4d1e4263499bec80672ea0156c357c1ee493ec2b1c70f0acce89fc37c4a6abe"
   }
  }
 },
 "nbformat": 4,
 "nbformat_minor": 4
}
