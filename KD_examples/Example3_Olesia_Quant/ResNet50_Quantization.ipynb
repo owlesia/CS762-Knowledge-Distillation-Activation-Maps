{
 "cells": [],
 "metadata": {
  "environment": {
   "kernel": "",
   "name": "pytorch-gpu.1-11.m94",
   "type": "gcloud",
   "uri": "gcr.io/deeplearning-platform-release/pytorch-gpu.1-11:m94"
  },
  "kernelspec": {
   "display_name": "",
   "name": ""
  },
  "language_info": {
   "name": ""
  }
 },
 "nbformat": 4,
 "nbformat_minor": 4
}
