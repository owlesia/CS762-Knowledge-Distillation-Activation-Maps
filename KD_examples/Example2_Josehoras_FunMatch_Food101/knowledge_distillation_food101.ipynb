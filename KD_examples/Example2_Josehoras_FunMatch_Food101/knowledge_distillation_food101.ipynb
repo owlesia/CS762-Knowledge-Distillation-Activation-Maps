{
 "cells": [
  {
   "cell_type": "markdown",
   "metadata": {},
   "source": [
    "### First step, we load the data"
   ]
  },
  {
   "cell_type": "code",
   "execution_count": 1,
   "metadata": {},
   "outputs": [
    {
     "name": "stdout",
     "output_type": "stream",
     "text": [
      "['README.txt', 'license_agreement.txt', 'images', 'meta']\n"
     ]
    }
   ],
   "source": [
    "import numpy as np\n",
    "import pandas as pd\n",
    "\n",
    "import os\n",
    "\n",
    "from pathlib import Path\n",
    "\n",
    "input_root_dir = \"/home/jupyter/cs762/data/food-101/food-101\"\n",
    "input_root_path = Path(input_root_dir)\n",
    "print(os.listdir(input_root_dir))\n",
    "image_dir_path = input_root_path/'images'\n",
    "\n",
    "class_path = input_root_dir+'/meta/classes.txt'\n",
    "train_img_name_path = input_root_dir+'/meta/train.txt'\n",
    "test_img_name_path = input_root_dir+'/meta/test.txt'"
   ]
  },
  {
   "cell_type": "code",
   "execution_count": 2,
   "metadata": {},
   "outputs": [],
   "source": [
    "def file2list(path):\n",
    "    file1 = open(path,'r')\n",
    "    lines = file1.readlines()\n",
    "    final_list = [line.strip() for line in lines]\n",
    "    return final_list"
   ]
  },
  {
   "cell_type": "code",
   "execution_count": 3,
   "metadata": {},
   "outputs": [],
   "source": [
    "from sklearn import preprocessing\n",
    "\n",
    "classes = file2list(class_path)\n",
    "train_data = file2list(train_img_name_path)\n",
    "test_data = file2list(test_img_name_path)\n",
    "le = preprocessing.LabelEncoder()\n",
    "targets = le.fit_transform(classes)"
   ]
  },
  {
   "cell_type": "code",
   "execution_count": 4,
   "metadata": {},
   "outputs": [
    {
     "name": "stderr",
     "output_type": "stream",
     "text": [
      "/opt/conda/lib/python3.7/site-packages/tqdm/auto.py:22: TqdmWarning: IProgress not found. Please update jupyter and ipywidgets. See https://ipywidgets.readthedocs.io/en/stable/user_install.html\n",
      "  from .autonotebook import tqdm as notebook_tqdm\n"
     ]
    }
   ],
   "source": [
    "import cv2\n",
    "\n",
    "from torch.utils.data import Dataset\n",
    "\n",
    "class FoodData(Dataset):\n",
    "    def __init__(self,img_path,img_dir,size,transform=None):\n",
    "        self.img_path = img_path\n",
    "        self.img_dir = img_dir\n",
    "        self.transform = transform\n",
    "        self.size = size\n",
    "#         self.mode = mode\n",
    "        \n",
    "    def __len__(self):\n",
    "        return len(self.img_path)\n",
    "    \n",
    "    def __getitem__(self,index):\n",
    "        label,img_name = self.img_path[index].split('/')\n",
    "        path = self.img_dir+'/images/'+label+'/'+img_name+'.jpg'\n",
    "        img = cv2.imread(path)\n",
    "        img = cv2.cvtColor(img,cv2.COLOR_BGR2RGB)\n",
    "        img = cv2.resize(img,(self.size,self.size))\n",
    "        if self.transform:\n",
    "            img = self.transform(img)\n",
    "        return img, torch.tensor(le.transform([label])[0])\n",
    "#         return {\n",
    "#                 'gt': img,\n",
    "#                 'label': torch.tensor(le.transform([label])[0])\n",
    "#             }"
   ]
  },
  {
   "cell_type": "code",
   "execution_count": 5,
   "metadata": {},
   "outputs": [],
   "source": [
    "train_dataset = FoodData(train_data,input_root_dir,256,None)"
   ]
  },
  {
   "cell_type": "code",
   "execution_count": 6,
   "metadata": {},
   "outputs": [],
   "source": [
    "from torch.utils.data.sampler import SubsetRandomSampler\n",
    "from torch.utils.data import DataLoader\n",
    "\n",
    "batch = 64\n",
    "valid_size = 0.2\n",
    "num = train_data.__len__()\n",
    "# Dividing the indices for train and cross validation\n",
    "indices = list(range(num))\n",
    "np.random.shuffle(indices)\n",
    "split = int(np.floor(valid_size*num))\n",
    "train_idx,valid_idx = indices[split:], indices[:split]\n",
    "\n",
    "#Create Samplers\n",
    "train_sampler = SubsetRandomSampler(train_idx)\n",
    "valid_sampler = SubsetRandomSampler(valid_idx)\n",
    "\n",
    "train_loader = DataLoader(train_dataset, batch_size = batch, sampler = train_sampler)\n",
    "valid_loader = DataLoader(train_dataset, batch_size = batch, sampler = valid_sampler)"
   ]
  },
  {
   "cell_type": "code",
   "execution_count": 7,
   "metadata": {},
   "outputs": [],
   "source": [
    "test_data = FoodData(test_data,input_root_dir,256,transform=None)\n",
    "test_loader = DataLoader(test_data, batch_size=batch, shuffle=False)"
   ]
  },
  {
   "cell_type": "markdown",
   "metadata": {},
   "source": [
    "# Attempt to train ResNet"
   ]
  },
  {
   "cell_type": "markdown",
   "metadata": {},
   "source": [
    "### Define and train a big, teacher neural net\n",
    "\n",
    "First we import the PyTorch libraries, then create the neural network."
   ]
  },
  {
   "cell_type": "code",
   "execution_count": 8,
   "metadata": {},
   "outputs": [],
   "source": [
    "import torch\n",
    "import torch.nn as nn\n",
    "from torch.optim import Adam\n",
    "from models import *\n",
    "from plot_funcs import *"
   ]
  },
  {
   "cell_type": "code",
   "execution_count": 9,
   "metadata": {},
   "outputs": [],
   "source": [
    "if torch.cuda.is_available():\n",
    "    device = torch.device(\"cuda:0\")\n",
    "else:\n",
    "    device = torch.device(\"cpu\")"
   ]
  },
  {
   "cell_type": "code",
   "execution_count": 10,
   "metadata": {},
   "outputs": [
    {
     "data": {
      "text/plain": [
       "device(type='cuda', index=0)"
      ]
     },
     "execution_count": 10,
     "metadata": {},
     "output_type": "execute_result"
    }
   ],
   "source": [
    "device"
   ]
  },
  {
   "cell_type": "code",
   "execution_count": 11,
   "metadata": {},
   "outputs": [],
   "source": [
    "# Create our teacher model\n",
    "import torchvision\n",
    "\n",
    "big_model = torchvision.models.resnet50().to(device)"
   ]
  },
  {
   "cell_type": "code",
   "execution_count": null,
   "metadata": {},
   "outputs": [
    {
     "name": "stderr",
     "output_type": "stream",
     "text": [
      " 19%|█▉        | 182/947 [03:27<14:32,  1.14s/it]"
     ]
    }
   ],
   "source": [
    "# Train the teacher model\n",
    "\n",
    "from tqdm import tqdm\n",
    "\n",
    "# Loss function\n",
    "loss_fn = nn.CrossEntropyLoss()\n",
    "# Create optimizer\n",
    "lr = 5e-3\n",
    "optimizer = Adam(big_model.parameters(), lr=lr)\n",
    "epochs = 2\n",
    "train_loss = []\n",
    "train_acc = []\n",
    "val_acc = []\n",
    "it = 0\n",
    "title = \"progress\"\n",
    "for epoch in range(epochs):\n",
    "    it_per_epoch = 0\n",
    "    for features, labels in tqdm(train_loader):\n",
    "        features = features.permute(0, 3, 2, 1).float().to(device)\n",
    "        scores = big_model(features)\n",
    "        labels = labels.to(device)\n",
    "        loss = loss_fn(scores, labels)\n",
    "        optimizer.zero_grad()\n",
    "        loss.backward()\n",
    "        optimizer.step()\n",
    "        train_loss.append(loss.item())\n",
    "        if it % 100 == 0 and it != 0 and len(train_acc) > 1:\n",
    "            train_acc.append(evaluate(big_model, train_loader, max_ex=100))\n",
    "            val_acc.append(evaluate(big_model, val_loader))\n",
    "            plot_loss(train_loss, it, it_per_epoch, base_name=\"loss_\"+title, title=title)\n",
    "            plot_acc(train_acc, val_acc, it, it_per_epoch, base_name=\"acc_\"+title, title=title)\n",
    "        it += 1\n",
    "        it_per_epoch += 1\n",
    "#perform last book keeping\n",
    "train_acc.append(evaluate(big_model, train_loader, max_ex=100))\n",
    "val_acc.append(evaluate(big_model, val_loader))"
   ]
  },
  {
   "cell_type": "code",
   "execution_count": null,
   "metadata": {},
   "outputs": [],
   "source": [
    "train_acc = evaluate(big_model, train_loader)\n",
    "print(\"\\nTrain accuracy: %.2f%%\" % train_acc)\n",
    "val_acc = evaluate(big_model,val_loader)\n",
    "print(\"Validation accuracy: %.2f%%\" % val_acc)\n",
    "test_acc = evaluate(big_model, test_loader)\n",
    "print(\"Test accuracy: %.2f%%\" % test_acc)"
   ]
  },
  {
   "cell_type": "markdown",
   "metadata": {},
   "source": [
    "### Define and train a small, student neural net"
   ]
  },
  {
   "cell_type": "code",
   "execution_count": null,
   "metadata": {},
   "outputs": [],
   "source": [
    "class small_linear_net(nn.Module):\n",
    "    def __init__(self):\n",
    "        super(small_linear_net, self).__init__()\n",
    "        self.linear_1 = nn.Linear(784, 50)\n",
    "        self.relu = nn.ReLU()\n",
    "        self.linear_2 = nn.Linear(50, 10)\n",
    "\n",
    "    def forward(self, input):\n",
    "        scores = self.linear_1(input)\n",
    "        scores = self.relu(scores)\n",
    "        scores = self.linear_2(scores)\n",
    "        return scores"
   ]
  },
  {
   "cell_type": "code",
   "execution_count": null,
   "metadata": {},
   "outputs": [],
   "source": [
    "# Create our student model\n",
    "small_model = small_linear_net().to(device)"
   ]
  },
  {
   "cell_type": "code",
   "execution_count": null,
   "metadata": {},
   "outputs": [],
   "source": [
    "# Load our pre-trained student model\n",
    "# This is just if you want to check the accuracy of this model\n",
    "# trained with the original MNIST data\n",
    "load_path = \"small_linear_model/\"\n",
    "checkpoint = torch.load(load_path + \"modelo\", map_location=torch.device('cpu'))\n",
    "small_model.load_state_dict(checkpoint['model_state_dict'])\n",
    "small_model.eval()"
   ]
  },
  {
   "cell_type": "code",
   "execution_count": null,
   "metadata": {},
   "outputs": [],
   "source": [
    "train_acc = evaluate(small_model, train_loader)\n",
    "print(\"\\nTrain accuracy: %.2f%%\" % train_acc)\n",
    "val_acc = evaluate(small_model,val_loader)\n",
    "print(\"Validation accuracy: %.2f%%\" % val_acc)\n",
    "test_acc = evaluate(small_model, test_loader)\n",
    "print(\"Test accuracy: %.2f%%\" % test_acc)"
   ]
  },
  {
   "cell_type": "markdown",
   "metadata": {},
   "source": [
    "### Distillation training"
   ]
  },
  {
   "cell_type": "code",
   "execution_count": null,
   "metadata": {},
   "outputs": [],
   "source": [
    "# Set output directory and create if needed\n",
    "import os\n",
    "output_dir = \"small_linear_model_distill1/\"\n",
    "if not os.path.exists(output_dir):\n",
    "    os.makedirs(output_dir)"
   ]
  },
  {
   "cell_type": "code",
   "execution_count": null,
   "metadata": {},
   "outputs": [],
   "source": [
    "### Define our custom loss function\n",
    "softmax_op = nn.Softmax(dim=1)\n",
    "mseloss_fn = nn.MSELoss()\n",
    "\n",
    "def my_loss(scores, targets, T=5):\n",
    "    soft_pred = softmax_op(scores / T)\n",
    "    soft_targets = softmax_op(targets / T)\n",
    "    loss = mseloss_fn(soft_pred, soft_targets)\n",
    "    return loss"
   ]
  },
  {
   "cell_type": "code",
   "execution_count": null,
   "metadata": {},
   "outputs": [],
   "source": [
    "# Create a new student model to start training from zero\n",
    "small_model = small_linear_net().to(device)\n",
    "from tqdm import tqdm\n",
    "%matplotlib inline\n",
    "\n",
    "# Hyperparameters\n",
    "lr = 5e-3\n",
    "epochs = 5\n",
    "temp = 5\n",
    "\n",
    "# Create optimizer\n",
    "optimizer = Adam(small_model.parameters(), lr=lr)\n",
    "val_acc = []\n",
    "train_acc = []\n",
    "train_loss = [0]  # loss at iteration 0\n",
    "for epoch in range(epochs):\n",
    "    for features, labels in tqdm(train_loader):\n",
    "        scores = small_model(features)\n",
    "        targets = big_model(features)\n",
    "        loss = my_loss(scores, targets, T = temp)\n",
    "        optimizer.zero_grad()\n",
    "        loss.backward()\n",
    "        optimizer.step()\n",
    "        # Book-keeping\n",
    "        if it % 100 == 0:\n",
    "            train_acc.append(evaluate(small_model, train_loader, max_ex=100))\n",
    "            val_acc.append(evaluate(small_model, val_loader))\n",
    "        it += 1\n",
    "#perform last book-keeping\n",
    "train_acc.append(evaluate(small_model, train_loader, max_ex=100))\n",
    "val_acc.append(evaluate(small_model, val_loader))\n",
    "plot_acc(train_acc, val_acc, it, it_per_epoch)"
   ]
  },
  {
   "cell_type": "code",
   "execution_count": null,
   "metadata": {},
   "outputs": [],
   "source": [
    "train_acc = evaluate(small_model, train_loader)\n",
    "print(\"\\nTrain accuracy: %.2f%%\" % train_acc)\n",
    "val_acc = evaluate(small_model,val_loader)\n",
    "print(\"Validation accuracy: %.2f%%\" % val_acc)\n",
    "test_acc = evaluate(small_model, test_loader)\n",
    "print(\"Test accuracy: %.2f%%\" % test_acc)"
   ]
  },
  {
   "cell_type": "code",
   "execution_count": null,
   "metadata": {},
   "outputs": [],
   "source": []
  }
 ],
 "metadata": {
  "environment": {
   "kernel": "python3",
   "name": "pytorch-gpu.1-11.m94",
   "type": "gcloud",
   "uri": "gcr.io/deeplearning-platform-release/pytorch-gpu.1-11:m94"
  },
  "kernelspec": {
   "display_name": "Python 3",
   "language": "python",
   "name": "python3"
  },
  "language_info": {
   "codemirror_mode": {
    "name": "ipython",
    "version": 3
   },
   "file_extension": ".py",
   "mimetype": "text/x-python",
   "name": "python",
   "nbconvert_exporter": "python",
   "pygments_lexer": "ipython3",
   "version": "3.7.12"
  }
 },
 "nbformat": 4,
 "nbformat_minor": 4
}
