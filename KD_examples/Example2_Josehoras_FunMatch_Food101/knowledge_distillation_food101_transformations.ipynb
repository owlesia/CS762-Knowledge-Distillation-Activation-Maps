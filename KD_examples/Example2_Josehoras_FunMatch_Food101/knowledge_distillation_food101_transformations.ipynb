{
 "cells": [
  {
   "cell_type": "markdown",
   "metadata": {},
   "source": [
    "### First step, we load the data"
   ]
  },
  {
   "cell_type": "code",
   "execution_count": 1,
   "metadata": {},
   "outputs": [
    {
     "name": "stdout",
     "output_type": "stream",
     "text": [
      "['.DS_Store', 'images', 'meta', 'license_agreement.txt', 'README.txt']\n"
     ]
    }
   ],
   "source": [
    "import numpy as np\n",
    "import pandas as pd\n",
    "\n",
    "import os\n",
    "\n",
    "from pathlib import Path\n",
    "\n",
    "input_root_dir = \"data/food-101\"\n",
    "input_root_path = Path(input_root_dir)\n",
    "print(os.listdir(input_root_dir))\n",
    "image_dir_path = input_root_path/'images'\n",
    "\n",
    "class_path = input_root_dir+'/meta/classes.txt'\n",
    "train_img_name_path = input_root_dir+'/meta/train.txt'\n",
    "test_img_name_path = input_root_dir+'/meta/test.txt'"
   ]
  },
  {
   "cell_type": "code",
   "execution_count": 2,
   "metadata": {},
   "outputs": [],
   "source": [
    "def file2list(path):\n",
    "    file1 = open(path,'r')\n",
    "    lines = file1.readlines()\n",
    "    final_list = [line.strip() for line in lines]\n",
    "    return final_list"
   ]
  },
  {
   "cell_type": "code",
   "execution_count": 3,
   "metadata": {},
   "outputs": [],
   "source": [
    "from sklearn import preprocessing\n",
    "\n",
    "classes = file2list(class_path)\n",
    "train_data = file2list(train_img_name_path)\n",
    "test_data = file2list(test_img_name_path)\n",
    "le = preprocessing.LabelEncoder()\n",
    "targets = le.fit_transform(classes)"
   ]
  },
  {
   "cell_type": "code",
   "execution_count": 4,
   "metadata": {},
   "outputs": [
    {
     "name": "stderr",
     "output_type": "stream",
     "text": [
      "/Users/olesiaelfimova/miniforge3/envs/cs762/lib/python3.8/site-packages/tqdm/auto.py:22: TqdmWarning: IProgress not found. Please update jupyter and ipywidgets. See https://ipywidgets.readthedocs.io/en/stable/user_install.html\n",
      "  from .autonotebook import tqdm as notebook_tqdm\n"
     ]
    }
   ],
   "source": [
    "from torch.utils.data import Dataset\n",
    "\n",
    "class FoodData(Dataset):\n",
    "    def __init__(self,img_path,img_dir,size,transform=None):\n",
    "        self.img_path = img_path\n",
    "        self.img_dir = img_dir\n",
    "        self.transform = transform\n",
    "        self.size = size\n",
    "#         self.mode = mode\n",
    "        \n",
    "    def __len__(self):\n",
    "        return len(self.img_path)\n",
    "    \n",
    "    def __getitem__(self,index):\n",
    "        label,img_name = self.img_path[index].split('/')\n",
    "        path = self.img_dir+'/images/'+label+'/'+img_name+'.jpg'\n",
    "        img = cv2.imread(path)\n",
    "        img = cv2.cvtColor(img,cv2.COLOR_BGR2RGB)\n",
    "        img = cv2.resize(img,(self.size,self.size))\n",
    "        if self.transform:\n",
    "            img = self.transform(img)\n",
    "        return {\n",
    "                'gt': img,\n",
    "                'label': torch.tensor(le.transform([label])[0])\n",
    "            }"
   ]
  },
  {
   "cell_type": "code",
   "execution_count": 5,
   "metadata": {},
   "outputs": [],
   "source": [
    "# from PIL import Image, ImageEnhance, ImageOps\n",
    "import numpy as np\n",
    "import random\n",
    "\n",
    "\n",
    "# class ImageNetPolicy(object):\n",
    "#     \"\"\" Randomly choose one of the best 24 Sub-policies on ImageNet.\n",
    "#         Example:\n",
    "#         >>> policy = ImageNetPolicy()\n",
    "#         >>> transformed = policy(image)\n",
    "#         Example as a PyTorch Transform:\n",
    "#         >>> transform=transforms.Compose([\n",
    "#         >>>     transforms.Resize(256),\n",
    "#         >>>     ImageNetPolicy(),\n",
    "#         >>>     transforms.ToTensor()])\n",
    "#     \"\"\"\n",
    "#     def __init__(self, fillcolor=(128, 128, 128)):\n",
    "#         self.policies = [\n",
    "#             SubPolicy(0.4, \"posterize\", 8, 0.6, \"rotate\", 9, fillcolor),\n",
    "#             SubPolicy(0.6, \"solarize\", 5, 0.6, \"autocontrast\", 5, fillcolor),\n",
    "#             SubPolicy(0.8, \"equalize\", 8, 0.6, \"equalize\", 3, fillcolor),\n",
    "#             SubPolicy(0.6, \"posterize\", 7, 0.6, \"posterize\", 6, fillcolor),\n",
    "#             SubPolicy(0.4, \"equalize\", 7, 0.2, \"solarize\", 4, fillcolor),\n",
    "\n",
    "#             SubPolicy(0.4, \"equalize\", 4, 0.8, \"rotate\", 8, fillcolor),\n",
    "#             SubPolicy(0.6, \"solarize\", 3, 0.6, \"equalize\", 7, fillcolor),\n",
    "#             SubPolicy(0.8, \"posterize\", 5, 1.0, \"equalize\", 2, fillcolor),\n",
    "#             SubPolicy(0.2, \"rotate\", 3, 0.6, \"solarize\", 8, fillcolor),\n",
    "#             SubPolicy(0.6, \"equalize\", 8, 0.4, \"posterize\", 6, fillcolor),\n",
    "\n",
    "#             SubPolicy(0.8, \"rotate\", 8, 0.4, \"color\", 0, fillcolor),\n",
    "#             SubPolicy(0.4, \"rotate\", 9, 0.6, \"equalize\", 2, fillcolor),\n",
    "#             SubPolicy(0.0, \"equalize\", 7, 0.8, \"equalize\", 8, fillcolor),\n",
    "#             SubPolicy(0.6, \"invert\", 4, 1.0, \"equalize\", 8, fillcolor),\n",
    "#             SubPolicy(0.6, \"color\", 4, 1.0, \"contrast\", 8, fillcolor),\n",
    "\n",
    "#             SubPolicy(0.8, \"rotate\", 8, 1.0, \"color\", 2, fillcolor),\n",
    "#             SubPolicy(0.8, \"color\", 8, 0.8, \"solarize\", 7, fillcolor),\n",
    "#             SubPolicy(0.4, \"sharpness\", 7, 0.6, \"invert\", 8, fillcolor),\n",
    "#             SubPolicy(0.6, \"shearX\", 5, 1.0, \"equalize\", 9, fillcolor),\n",
    "#             SubPolicy(0.4, \"color\", 0, 0.6, \"equalize\", 3, fillcolor),\n",
    "\n",
    "#             SubPolicy(0.4, \"equalize\", 7, 0.2, \"solarize\", 4, fillcolor),\n",
    "#             SubPolicy(0.6, \"solarize\", 5, 0.6, \"autocontrast\", 5, fillcolor),\n",
    "#             SubPolicy(0.6, \"invert\", 4, 1.0, \"equalize\", 8, fillcolor),\n",
    "#             SubPolicy(0.6, \"color\", 4, 1.0, \"contrast\", 8, fillcolor),\n",
    "#             SubPolicy(0.8, \"equalize\", 8, 0.6, \"equalize\", 3, fillcolor)\n",
    "#         ]\n",
    "\n",
    "\n",
    "#     def __call__(self, img):\n",
    "#         policy_idx = random.randint(0, len(self.policies) - 1)\n",
    "#         return self.policies[policy_idx](img)\n",
    "\n",
    "#     def __repr__(self):\n",
    "#         return \"AutoAugment ImageNet Policy\""
   ]
  },
  {
   "cell_type": "code",
   "execution_count": 6,
   "metadata": {},
   "outputs": [],
   "source": [
    "# class SubPolicy(object):\n",
    "#     def __init__(self, p1, operation1, magnitude_idx1, p2, operation2, magnitude_idx2, fillcolor=(128, 128, 128)):\n",
    "#         ranges = {\n",
    "#             \"shearX\": np.linspace(0, 0.3, 10),\n",
    "#             \"shearY\": np.linspace(0, 0.3, 10),\n",
    "#             \"translateX\": np.linspace(0, 150 / 331, 10),\n",
    "#             \"translateY\": np.linspace(0, 150 / 331, 10),\n",
    "#             \"rotate\": np.linspace(0, 30, 10),\n",
    "#             \"color\": np.linspace(0.0, 0.9, 10),\n",
    "#             \"posterize\": np.round(np.linspace(8, 4, 10), 0).astype(np.int),\n",
    "#             \"solarize\": np.linspace(256, 0, 10),\n",
    "#             \"contrast\": np.linspace(0.0, 0.9, 10),\n",
    "#             \"sharpness\": np.linspace(0.0, 0.9, 10),\n",
    "#             \"brightness\": np.linspace(0.0, 0.9, 10),\n",
    "#             \"autocontrast\": [0] * 10,\n",
    "#             \"equalize\": [0] * 10,\n",
    "#             \"invert\": [0] * 10\n",
    "#         }\n",
    "\n",
    "#         # from https://stackoverflow.com/questions/5252170/specify-image-filling-color-when-rotating-in-python-with-pil-and-setting-expand\n",
    "#         def rotate_with_fill(img, magnitude):\n",
    "#             rot = img.convert(\"RGBA\").rotate(magnitude)\n",
    "#             return Image.composite(rot, Image.new(\"RGBA\", rot.size, (128,) * 4), rot).convert(img.mode)\n",
    "\n",
    "#         func = {\n",
    "#             \"shearX\": lambda img, magnitude: img.transform(\n",
    "#                 img.size, Image.AFFINE, (1, magnitude * random.choice([-1, 1]), 0, 0, 1, 0),\n",
    "#                 Image.BICUBIC, fillcolor=fillcolor),\n",
    "#             \"shearY\": lambda img, magnitude: img.transform(\n",
    "#                 img.size, Image.AFFINE, (1, 0, 0, magnitude * random.choice([-1, 1]), 1, 0),\n",
    "#                 Image.BICUBIC, fillcolor=fillcolor),\n",
    "#             \"translateX\": lambda img, magnitude: img.transform(\n",
    "#                 img.size, Image.AFFINE, (1, 0, magnitude * img.size[0] * random.choice([-1, 1]), 0, 1, 0),\n",
    "#                 fillcolor=fillcolor),\n",
    "#             \"translateY\": lambda img, magnitude: img.transform(\n",
    "#                 img.size, Image.AFFINE, (1, 0, 0, 0, 1, magnitude * img.size[1] * random.choice([-1, 1])),\n",
    "#                 fillcolor=fillcolor),\n",
    "#             \"rotate\": lambda img, magnitude: rotate_with_fill(img, magnitude),\n",
    "#             \"color\": lambda img, magnitude: ImageEnhance.Color(img).enhance(1 + magnitude * random.choice([-1, 1])),\n",
    "#             \"posterize\": lambda img, magnitude: ImageOps.posterize(img, magnitude),\n",
    "#             \"solarize\": lambda img, magnitude: ImageOps.solarize(img, magnitude),\n",
    "#             \"contrast\": lambda img, magnitude: ImageEnhance.Contrast(img).enhance(\n",
    "#                 1 + magnitude * random.choice([-1, 1])),\n",
    "#             \"sharpness\": lambda img, magnitude: ImageEnhance.Sharpness(img).enhance(\n",
    "#                 1 + magnitude * random.choice([-1, 1])),\n",
    "#             \"brightness\": lambda img, magnitude: ImageEnhance.Brightness(img).enhance(\n",
    "#                 1 + magnitude * random.choice([-1, 1])),\n",
    "#             \"autocontrast\": lambda img, magnitude: ImageOps.autocontrast(img),\n",
    "#             \"equalize\": lambda img, magnitude: ImageOps.equalize(img),\n",
    "#             \"invert\": lambda img, magnitude: ImageOps.invert(img)\n",
    "#         }\n",
    "\n",
    "#         self.p1 = p1\n",
    "#         self.operation1 = func[operation1]\n",
    "#         self.magnitude1 = ranges[operation1][magnitude_idx1]\n",
    "#         self.p2 = p2\n",
    "#         self.operation2 = func[operation2]\n",
    "#         self.magnitude2 = ranges[operation2][magnitude_idx2]\n",
    "\n",
    "\n",
    "#     def __call__(self, img):\n",
    "#         if random.random() < self.p1: img = self.operation1(img, self.magnitude1)\n",
    "#         if random.random() < self.p2: img = self.operation2(img, self.magnitude2)\n",
    "#         return img"
   ]
  },
  {
   "cell_type": "code",
   "execution_count": 7,
   "metadata": {},
   "outputs": [],
   "source": [
    "# from autoaugment import ImageNetPolicy\n",
    "# from albumentations.pytorch import ToTensorV2\n",
    "# import albumentations as A\n",
    "# augmentation_pipeline = A.Compose(\n",
    "#     [\n",
    "#         A.HorizontalFlip(p = 0.5), # apply horizontal flip to 50% of images\n",
    "#         A.VerticalFlip(p =0.5),\n",
    "#         A.OneOf(\n",
    "#             [\n",
    "#                 # apply one of transforms to 50% of images\n",
    "#                 A.RandomContrast(), # apply random contrast\n",
    "#                 A.RandomGamma(), # apply random gamma\n",
    "#                 A.RandomBrightness(), # apply random brightness\n",
    "#                 A.RandomBrightnessContrast(),\n",
    "#             ],\n",
    "#             p = 0.5\n",
    "#         ),\n",
    "#         A.Cutout(num_holes=10, max_h_size=20, max_w_size=20, fill_value=0, p=0.5),\n",
    "#         A.Blur(blur_limit=(15, 15), p=0.5),\n",
    "#         A.Normalize(\n",
    "#             mean=[0.485, 0.456, 0.406],\n",
    "#             std=[0.229, 0.224, 0.225]),\n",
    "        \n",
    "#         ToTensorV2() # convert the image to PyTorch tensor\n",
    "#     ],\n",
    "#     p = 1\n",
    "# )\n",
    "# transforms_train = transforms.Compose([\n",
    "#     transforms.ToPILImage(),\n",
    "#     transforms.RandomRotation(90),\n",
    "# #     transforms.CenterCrop(10),\n",
    "#     transforms.RandomHorizontalFlip(),\n",
    "#     transforms.RandomVerticalFlip(),\n",
    "#     transforms.ColorJitter(),\n",
    "# #     ImageNetPolicy(),\n",
    "    \n",
    "#     transforms.ToTensor(),\n",
    "#     transforms.Normalize( mean = np.array([0.485, 0.456, 0.406]),\n",
    "#     std = np.array([0.229, 0.224, 0.225]))\n",
    "# ])\n",
    "# train_transforms = transforms.Compose([transforms.ToPILImage(),\n",
    "#                                         transforms.RandomRotation(30),\n",
    "#                                        transforms.RandomResizedCrop(224),\n",
    "#                                        transforms.RandomHorizontalFlip(),ImageNetPolicy(),\n",
    "#                                        transforms.ToTensor(),\n",
    "#                                        transforms.Normalize([0.485, 0.456, 0.406],\n",
    "#                                                             [0.229, 0.224, 0.225])])\n",
    "# train_dataset = FoodData(train_data,input_root_dir,256,transforms_train)\n",
    "train_dataset = FoodData(train_data,input_root_dir,256,None)"
   ]
  },
  {
   "cell_type": "code",
   "execution_count": 8,
   "metadata": {},
   "outputs": [],
   "source": [
    "from torch.utils.data.sampler import SubsetRandomSampler\n",
    "from torch.utils.data import DataLoader\n",
    "\n",
    "batch = 64\n",
    "valid_size = 0.2\n",
    "num = train_data.__len__()\n",
    "# Dividing the indices for train and cross validation\n",
    "indices = list(range(num))\n",
    "np.random.shuffle(indices)\n",
    "split = int(np.floor(valid_size*num))\n",
    "train_idx,valid_idx = indices[split:], indices[:split]\n",
    "\n",
    "#Create Samplers\n",
    "train_sampler = SubsetRandomSampler(train_idx)\n",
    "valid_sampler = SubsetRandomSampler(valid_idx)\n",
    "\n",
    "train_loader = DataLoader(train_dataset, batch_size = batch, sampler = train_sampler)\n",
    "valid_loader = DataLoader(train_dataset, batch_size = batch, sampler = valid_sampler)"
   ]
  },
  {
   "cell_type": "code",
   "execution_count": 10,
   "metadata": {},
   "outputs": [],
   "source": [
    "# test_transforms = transforms.Compose([transforms.ToPILImage(),\n",
    "#                                       transforms.CenterCrop(224),\n",
    "#                                       transforms.ToTensor(),\n",
    "#                                       transforms.Normalize([0.485, 0.456, 0.406],\n",
    "#                                                            [0.229, 0.224, 0.225])])\n",
    "\n",
    "# test_data = FoodData(test_data,input_root_dir,256,transform = test_transforms)\n",
    "test_data = FoodData(test_data,input_root_dir,256,transform=None)\n",
    "\n",
    "test_loader = DataLoader(test_data, batch_size=batch, shuffle=False)"
   ]
  },
  {
   "cell_type": "markdown",
   "metadata": {},
   "source": [
    "### Define and train a big, teacher neural net\n",
    "\n",
    "First we import the PyTorch libraries, then create the neural network.\n",
    "\n",
    "However, instead of training now, you have the option of just loading the network I previously trained"
   ]
  },
  {
   "cell_type": "code",
   "execution_count": null,
   "metadata": {},
   "outputs": [],
   "source": [
    "import torch\n",
    "import torch.nn as nn\n",
    "from torch.optim import Adam\n",
    "from models import *\n",
    "from plot_funcs import *"
   ]
  },
  {
   "cell_type": "code",
   "execution_count": null,
   "metadata": {},
   "outputs": [],
   "source": [
    "if torch.cuda.is_available():\n",
    "    device = torch.device(\"cuda:0\")\n",
    "else:\n",
    "    device = torch.device(\"cpu\")"
   ]
  },
  {
   "cell_type": "code",
   "execution_count": null,
   "metadata": {},
   "outputs": [],
   "source": [
    "class linear_net(nn.Module):\n",
    "    def __init__(self, dropout=0.5):\n",
    "        super(linear_net, self).__init__()\n",
    "        self.linear_1 = nn.Linear(784, 1200)\n",
    "        self.relu = nn.ReLU()\n",
    "        self.dropout = nn.Dropout(p=dropout)\n",
    "        self.linear_2 = nn.Linear(1200, 1200)\n",
    "        self.dropout = nn.Dropout(p=dropout)\n",
    "        self.linear_3 = nn.Linear(1200, 10)\n",
    "\n",
    "    def forward(self, input):\n",
    "        scores = self.linear_1(input)\n",
    "        scores = self.relu(scores)\n",
    "        scores = self.linear_2(scores)\n",
    "        scores = self.relu(scores)\n",
    "        scores = self.dropout(scores)\n",
    "        scores = self.linear_3(scores)\n",
    "        return scores"
   ]
  },
  {
   "cell_type": "code",
   "execution_count": null,
   "metadata": {},
   "outputs": [],
   "source": [
    "# Create our teacher model\n",
    "big_model = linear_net().to(device)"
   ]
  },
  {
   "cell_type": "code",
   "execution_count": null,
   "metadata": {},
   "outputs": [],
   "source": [
    "# Load our pre-trained teacher model\n",
    "load_path = \"teacher_linear_model/\"\n",
    "checkpoint = torch.load(load_path + \"modelo\", map_location=torch.device('cpu'))\n",
    "big_model.load_state_dict(checkpoint['model_state_dict'])\n",
    "big_model.eval()"
   ]
  },
  {
   "cell_type": "code",
   "execution_count": null,
   "metadata": {},
   "outputs": [],
   "source": [
    "# This cell is here if you want to train the teacher model yourself\n",
    "# if you don't want to lose time DO NOT RUN\n",
    "\n",
    "from tqdm import tqdm\n",
    "\n",
    "# Loss function\n",
    "loss_fn = nn.CrossEntropyLoss()\n",
    "# Create optimizer\n",
    "lr = 5e-3\n",
    "optimizer = Adam(big_model.parameters(), lr=lr)\n",
    "epochs = 2\n",
    "train_loss = []\n",
    "train_acc = []\n",
    "val_acc = []\n",
    "it = 0\n",
    "title = \"progress\"\n",
    "for epoch in range(epochs):\n",
    "    it_per_epoch = 0\n",
    "    for features, labels in tqdm(train_loader):\n",
    "        scores = big_model(features)\n",
    "        loss = loss_fn(scores, labels)\n",
    "        optimizer.zero_grad()\n",
    "        loss.backward()\n",
    "        optimizer.step()\n",
    "        train_loss.append(loss.item())\n",
    "        if it % 100 == 0 and it != 0 and len(train_acc) > 1:\n",
    "            train_acc.append(evaluate(big_model, train_loader, max_ex=100))\n",
    "            val_acc.append(evaluate(big_model, val_loader))\n",
    "            plot_loss(train_loss, it, it_per_epoch, base_name=\"loss_\"+title, title=title)\n",
    "            plot_acc(train_acc, val_acc, it, it_per_epoch, base_name=\"acc_\"+title, title=title)\n",
    "        it += 1\n",
    "        it_per_epoch += 1\n",
    "#perform last book keeping\n",
    "train_acc.append(evaluate(big_model, train_loader, max_ex=100))\n",
    "val_acc.append(evaluate(big_model, val_loader))"
   ]
  },
  {
   "cell_type": "code",
   "execution_count": null,
   "metadata": {},
   "outputs": [],
   "source": [
    "train_acc = evaluate(big_model, train_loader)\n",
    "print(\"\\nTrain accuracy: %.2f%%\" % train_acc)\n",
    "val_acc = evaluate(big_model,val_loader)\n",
    "print(\"Validation accuracy: %.2f%%\" % val_acc)\n",
    "test_acc = evaluate(big_model, test_loader)\n",
    "print(\"Test accuracy: %.2f%%\" % test_acc)"
   ]
  },
  {
   "cell_type": "markdown",
   "metadata": {},
   "source": [
    "### Define and train a small, student neural net"
   ]
  },
  {
   "cell_type": "code",
   "execution_count": null,
   "metadata": {},
   "outputs": [],
   "source": [
    "class small_linear_net(nn.Module):\n",
    "    def __init__(self):\n",
    "        super(small_linear_net, self).__init__()\n",
    "        self.linear_1 = nn.Linear(784, 50)\n",
    "        self.relu = nn.ReLU()\n",
    "        self.linear_2 = nn.Linear(50, 10)\n",
    "\n",
    "    def forward(self, input):\n",
    "        scores = self.linear_1(input)\n",
    "        scores = self.relu(scores)\n",
    "        scores = self.linear_2(scores)\n",
    "        return scores"
   ]
  },
  {
   "cell_type": "code",
   "execution_count": null,
   "metadata": {},
   "outputs": [],
   "source": [
    "# Create our student model\n",
    "small_model = small_linear_net().to(device)"
   ]
  },
  {
   "cell_type": "code",
   "execution_count": null,
   "metadata": {},
   "outputs": [],
   "source": [
    "# Load our pre-trained student model\n",
    "# This is just if you want to check the accuracy of this model\n",
    "# trained with the original MNIST data\n",
    "load_path = \"small_linear_model/\"\n",
    "checkpoint = torch.load(load_path + \"modelo\", map_location=torch.device('cpu'))\n",
    "small_model.load_state_dict(checkpoint['model_state_dict'])\n",
    "small_model.eval()"
   ]
  },
  {
   "cell_type": "code",
   "execution_count": null,
   "metadata": {},
   "outputs": [],
   "source": [
    "train_acc = evaluate(small_model, train_loader)\n",
    "print(\"\\nTrain accuracy: %.2f%%\" % train_acc)\n",
    "val_acc = evaluate(small_model,val_loader)\n",
    "print(\"Validation accuracy: %.2f%%\" % val_acc)\n",
    "test_acc = evaluate(small_model, test_loader)\n",
    "print(\"Test accuracy: %.2f%%\" % test_acc)"
   ]
  },
  {
   "cell_type": "markdown",
   "metadata": {},
   "source": [
    "### Distillation training"
   ]
  },
  {
   "cell_type": "code",
   "execution_count": null,
   "metadata": {},
   "outputs": [],
   "source": [
    "# Set output directory and create if needed\n",
    "import os\n",
    "output_dir = \"small_linear_model_distill1/\"\n",
    "if not os.path.exists(output_dir):\n",
    "    os.makedirs(output_dir)"
   ]
  },
  {
   "cell_type": "code",
   "execution_count": null,
   "metadata": {},
   "outputs": [],
   "source": [
    "### Define our custom loss function\n",
    "softmax_op = nn.Softmax(dim=1)\n",
    "mseloss_fn = nn.MSELoss()\n",
    "\n",
    "def my_loss(scores, targets, T=5):\n",
    "    soft_pred = softmax_op(scores / T)\n",
    "    soft_targets = softmax_op(targets / T)\n",
    "    loss = mseloss_fn(soft_pred, soft_targets)\n",
    "    return loss"
   ]
  },
  {
   "cell_type": "code",
   "execution_count": null,
   "metadata": {},
   "outputs": [],
   "source": [
    "# Create a new student model to start training from zero\n",
    "small_model = small_linear_net().to(device)\n",
    "from tqdm import tqdm\n",
    "%matplotlib inline\n",
    "\n",
    "# Hyperparameters\n",
    "lr = 5e-3\n",
    "epochs = 5\n",
    "temp = 5\n",
    "\n",
    "# Create optimizer\n",
    "optimizer = Adam(small_model.parameters(), lr=lr)\n",
    "val_acc = []\n",
    "train_acc = []\n",
    "train_loss = [0]  # loss at iteration 0\n",
    "for epoch in range(epochs):\n",
    "    for features, labels in tqdm(train_loader):\n",
    "        scores = small_model(features)\n",
    "        targets = big_model(features)\n",
    "        loss = my_loss(scores, targets, T = temp)\n",
    "        optimizer.zero_grad()\n",
    "        loss.backward()\n",
    "        optimizer.step()\n",
    "        # Book-keeping\n",
    "        if it % 100 == 0:\n",
    "            train_acc.append(evaluate(small_model, train_loader, max_ex=100))\n",
    "            val_acc.append(evaluate(small_model, val_loader))\n",
    "        it += 1\n",
    "#perform last book-keeping\n",
    "train_acc.append(evaluate(small_model, train_loader, max_ex=100))\n",
    "val_acc.append(evaluate(small_model, val_loader))\n",
    "plot_acc(train_acc, val_acc, it, it_per_epoch)"
   ]
  },
  {
   "cell_type": "code",
   "execution_count": null,
   "metadata": {},
   "outputs": [],
   "source": [
    "train_acc = evaluate(small_model, train_loader)\n",
    "print(\"\\nTrain accuracy: %.2f%%\" % train_acc)\n",
    "val_acc = evaluate(small_model,val_loader)\n",
    "print(\"Validation accuracy: %.2f%%\" % val_acc)\n",
    "test_acc = evaluate(small_model, test_loader)\n",
    "print(\"Test accuracy: %.2f%%\" % test_acc)"
   ]
  },
  {
   "cell_type": "code",
   "execution_count": null,
   "metadata": {},
   "outputs": [],
   "source": []
  }
 ],
 "metadata": {
  "kernelspec": {
   "display_name": "cs762",
   "language": "python",
   "name": "cs762"
  },
  "language_info": {
   "codemirror_mode": {
    "name": "ipython",
    "version": 3
   },
   "file_extension": ".py",
   "mimetype": "text/x-python",
   "name": "python",
   "nbconvert_exporter": "python",
   "pygments_lexer": "ipython3",
   "version": "3.8.13"
  }
 },
 "nbformat": 4,
 "nbformat_minor": 2
}
